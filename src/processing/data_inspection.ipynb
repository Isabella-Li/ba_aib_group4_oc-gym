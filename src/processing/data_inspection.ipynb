{
 "cells": [
  {
   "cell_type": "code",
   "execution_count": 6,
   "metadata": {},
   "outputs": [],
   "source": [
    "import pandas as pd\n",
    "import numpy as np\n",
    "import matplotlib.pyplot as plt\n",
    "import os"
   ]
  },
  {
   "cell_type": "code",
   "execution_count": 14,
   "metadata": {},
   "outputs": [
    {
     "name": "stdout",
     "output_type": "stream",
     "text": [
      "C:\\Users\\Sonia\\OneDrive - Imperial College London\\ba_aib_group4_oc-gym\n"
     ]
    }
   ],
   "source": [
    "# go back to grand parent level directory\n",
    "path = os.path.abspath(os.getcwd() + \"/../../\")"
   ]
  },
  {
   "cell_type": "markdown",
   "metadata": {},
   "source": [
    "The ratecard spreadsheet contains 2 tables. We split them into 2 csv files and save them under data/processed/\n",
    "![title](ratecard_layout.jpg)"
   ]
  },
  {
   "cell_type": "code",
   "execution_count": 12,
   "metadata": {},
   "outputs": [
    {
     "data": {
      "text/html": [
       "<div>\n",
       "<style scoped>\n",
       "    .dataframe tbody tr th:only-of-type {\n",
       "        vertical-align: middle;\n",
       "    }\n",
       "\n",
       "    .dataframe tbody tr th {\n",
       "        vertical-align: top;\n",
       "    }\n",
       "\n",
       "    .dataframe thead th {\n",
       "        text-align: right;\n",
       "    }\n",
       "</style>\n",
       "<table border=\"1\" class=\"dataframe\">\n",
       "  <thead>\n",
       "    <tr style=\"text-align: right;\">\n",
       "      <th></th>\n",
       "      <th>Year</th>\n",
       "      <th>Flexible</th>\n",
       "      <th>Standard</th>\n",
       "      <th>Joinee</th>\n",
       "      <th>Dayass</th>\n",
       "    </tr>\n",
       "  </thead>\n",
       "  <tbody>\n",
       "    <tr>\n",
       "      <th>0</th>\n",
       "      <td>2009</td>\n",
       "      <td>25.99</td>\n",
       "      <td>20.99</td>\n",
       "      <td>5</td>\n",
       "      <td>6</td>\n",
       "    </tr>\n",
       "    <tr>\n",
       "      <th>1</th>\n",
       "      <td>2010</td>\n",
       "      <td>25.99</td>\n",
       "      <td>20.99</td>\n",
       "      <td>5</td>\n",
       "      <td>6</td>\n",
       "    </tr>\n",
       "    <tr>\n",
       "      <th>2</th>\n",
       "      <td>2011</td>\n",
       "      <td>25.99</td>\n",
       "      <td>20.99</td>\n",
       "      <td>5</td>\n",
       "      <td>6</td>\n",
       "    </tr>\n",
       "    <tr>\n",
       "      <th>3</th>\n",
       "      <td>2012</td>\n",
       "      <td>25.99</td>\n",
       "      <td>20.99</td>\n",
       "      <td>5</td>\n",
       "      <td>6</td>\n",
       "    </tr>\n",
       "    <tr>\n",
       "      <th>4</th>\n",
       "      <td>2013</td>\n",
       "      <td>25.99</td>\n",
       "      <td>20.99</td>\n",
       "      <td>5</td>\n",
       "      <td>6</td>\n",
       "    </tr>\n",
       "  </tbody>\n",
       "</table>\n",
       "</div>"
      ],
      "text/plain": [
       "   Year  Flexible  Standard  Joinee  Dayass\n",
       "0  2009     25.99     20.99       5       6\n",
       "1  2010     25.99     20.99       5       6\n",
       "2  2011     25.99     20.99       5       6\n",
       "3  2012     25.99     20.99       5       6\n",
       "4  2013     25.99     20.99       5       6"
      ]
     },
     "execution_count": 12,
     "metadata": {},
     "output_type": "execute_result"
    }
   ],
   "source": [
    "# import client data\n",
    "client_price = pd.read_csv(os.path.join(path,'data/processed/client_price.csv'))\n",
    "client_price.head()"
   ]
  },
  {
   "cell_type": "code",
   "execution_count": 13,
   "metadata": {},
   "outputs": [
    {
     "data": {
      "text/html": [
       "<div>\n",
       "<style scoped>\n",
       "    .dataframe tbody tr th:only-of-type {\n",
       "        vertical-align: middle;\n",
       "    }\n",
       "\n",
       "    .dataframe tbody tr th {\n",
       "        vertical-align: top;\n",
       "    }\n",
       "\n",
       "    .dataframe thead th {\n",
       "        text-align: right;\n",
       "    }\n",
       "</style>\n",
       "<table border=\"1\" class=\"dataframe\">\n",
       "  <thead>\n",
       "    <tr style=\"text-align: right;\">\n",
       "      <th></th>\n",
       "      <th>Year</th>\n",
       "      <th>Flexible</th>\n",
       "      <th>Standard</th>\n",
       "      <th>Joinee</th>\n",
       "    </tr>\n",
       "  </thead>\n",
       "  <tbody>\n",
       "    <tr>\n",
       "      <th>0</th>\n",
       "      <td>2009</td>\n",
       "      <td>35.99</td>\n",
       "      <td>30.99</td>\n",
       "      <td>8</td>\n",
       "    </tr>\n",
       "    <tr>\n",
       "      <th>1</th>\n",
       "      <td>2010</td>\n",
       "      <td>35.99</td>\n",
       "      <td>30.99</td>\n",
       "      <td>8</td>\n",
       "    </tr>\n",
       "    <tr>\n",
       "      <th>2</th>\n",
       "      <td>2011</td>\n",
       "      <td>35.99</td>\n",
       "      <td>30.99</td>\n",
       "      <td>8</td>\n",
       "    </tr>\n",
       "    <tr>\n",
       "      <th>3</th>\n",
       "      <td>2012</td>\n",
       "      <td>35.99</td>\n",
       "      <td>30.99</td>\n",
       "      <td>8</td>\n",
       "    </tr>\n",
       "    <tr>\n",
       "      <th>4</th>\n",
       "      <td>2013</td>\n",
       "      <td>35.99</td>\n",
       "      <td>30.99</td>\n",
       "      <td>8</td>\n",
       "    </tr>\n",
       "  </tbody>\n",
       "</table>\n",
       "</div>"
      ],
      "text/plain": [
       "   Year  Flexible  Standard  Joinee\n",
       "0  2009     35.99     30.99       8\n",
       "1  2010     35.99     30.99       8\n",
       "2  2011     35.99     30.99       8\n",
       "3  2012     35.99     30.99       8\n",
       "4  2013     35.99     30.99       8"
      ]
     },
     "execution_count": 13,
     "metadata": {},
     "output_type": "execute_result"
    }
   ],
   "source": [
    "# import competitor data\n",
    "competitor_price = pd.read_csv(os.path.join(path,'data/processed/competitor_price.csv'))\n",
    "competitor_price.head()"
   ]
  },
  {
   "cell_type": "code",
   "execution_count": 16,
   "metadata": {},
   "outputs": [
    {
     "data": {
      "text/html": [
       "<div>\n",
       "<style scoped>\n",
       "    .dataframe tbody tr th:only-of-type {\n",
       "        vertical-align: middle;\n",
       "    }\n",
       "\n",
       "    .dataframe tbody tr th {\n",
       "        vertical-align: top;\n",
       "    }\n",
       "\n",
       "    .dataframe thead th {\n",
       "        text-align: right;\n",
       "    }\n",
       "</style>\n",
       "<table border=\"1\" class=\"dataframe\">\n",
       "  <thead>\n",
       "    <tr style=\"text-align: right;\">\n",
       "      <th></th>\n",
       "      <th>Club</th>\n",
       "      <th>Join Date</th>\n",
       "      <th>Affluence</th>\n",
       "      <th>Gender</th>\n",
       "      <th>Subscription Type</th>\n",
       "      <th>End Date</th>\n",
       "      <th>CustomerID</th>\n",
       "      <th>BirthYear</th>\n",
       "    </tr>\n",
       "  </thead>\n",
       "  <tbody>\n",
       "    <tr>\n",
       "      <th>0</th>\n",
       "      <td>Enfield</td>\n",
       "      <td>Dec-11</td>\n",
       "      <td>C1</td>\n",
       "      <td>Male</td>\n",
       "      <td>Standard</td>\n",
       "      <td>Dec-11</td>\n",
       "      <td>1</td>\n",
       "      <td>1992</td>\n",
       "    </tr>\n",
       "    <tr>\n",
       "      <th>1</th>\n",
       "      <td>Greenwich</td>\n",
       "      <td>Jun-18</td>\n",
       "      <td>A</td>\n",
       "      <td>Female</td>\n",
       "      <td>Standard</td>\n",
       "      <td>NaN</td>\n",
       "      <td>2</td>\n",
       "      <td>1972</td>\n",
       "    </tr>\n",
       "    <tr>\n",
       "      <th>2</th>\n",
       "      <td>Islington</td>\n",
       "      <td>Mar-18</td>\n",
       "      <td>B</td>\n",
       "      <td>Female</td>\n",
       "      <td>Standard</td>\n",
       "      <td>Oct-18</td>\n",
       "      <td>3</td>\n",
       "      <td>1985</td>\n",
       "    </tr>\n",
       "    <tr>\n",
       "      <th>3</th>\n",
       "      <td>Hounslow</td>\n",
       "      <td>Oct-15</td>\n",
       "      <td>C1</td>\n",
       "      <td>Female</td>\n",
       "      <td>Standard</td>\n",
       "      <td>Dec-15</td>\n",
       "      <td>4</td>\n",
       "      <td>1972</td>\n",
       "    </tr>\n",
       "    <tr>\n",
       "      <th>4</th>\n",
       "      <td>Barnet</td>\n",
       "      <td>May-15</td>\n",
       "      <td>C2</td>\n",
       "      <td>Male</td>\n",
       "      <td>Standard</td>\n",
       "      <td>Dec-15</td>\n",
       "      <td>5</td>\n",
       "      <td>1982</td>\n",
       "    </tr>\n",
       "  </tbody>\n",
       "</table>\n",
       "</div>"
      ],
      "text/plain": [
       "        Club Join Date Affluence  Gender Subscription Type End Date  \\\n",
       "0    Enfield    Dec-11        C1    Male          Standard   Dec-11   \n",
       "1  Greenwich    Jun-18         A  Female          Standard      NaN   \n",
       "2  Islington    Mar-18         B  Female          Standard   Oct-18   \n",
       "3   Hounslow    Oct-15        C1  Female          Standard   Dec-15   \n",
       "4     Barnet    May-15        C2    Male          Standard   Dec-15   \n",
       "\n",
       "   CustomerID  BirthYear  \n",
       "0           1       1992  \n",
       "1           2       1972  \n",
       "2           3       1985  \n",
       "3           4       1972  \n",
       "4           5       1982  "
      ]
     },
     "execution_count": 16,
     "metadata": {},
     "output_type": "execute_result"
    }
   ],
   "source": [
    "# import subscription data\n",
    "subscription = pd.read_csv(os.path.join(path,'data/raw/subscriptionsdataFINAL.csv'))\n",
    "subscription.head()"
   ]
  },
  {
   "cell_type": "markdown",
   "metadata": {},
   "source": [
    "Looks like there are several nan values here. We will need to take them into account when preparing the data.\n",
    "\n",
    "- Also end date needs to be converted to datetime object"
   ]
  },
  {
   "cell_type": "code",
   "execution_count": 17,
   "metadata": {},
   "outputs": [
    {
     "data": {
      "text/html": [
       "<div>\n",
       "<style scoped>\n",
       "    .dataframe tbody tr th:only-of-type {\n",
       "        vertical-align: middle;\n",
       "    }\n",
       "\n",
       "    .dataframe tbody tr th {\n",
       "        vertical-align: top;\n",
       "    }\n",
       "\n",
       "    .dataframe thead th {\n",
       "        text-align: right;\n",
       "    }\n",
       "</style>\n",
       "<table border=\"1\" class=\"dataframe\">\n",
       "  <thead>\n",
       "    <tr style=\"text-align: right;\">\n",
       "      <th></th>\n",
       "      <th>CustomerID</th>\n",
       "      <th>visitdate</th>\n",
       "      <th>TimeofVisit</th>\n",
       "      <th>peakvisits</th>\n",
       "    </tr>\n",
       "  </thead>\n",
       "  <tbody>\n",
       "    <tr>\n",
       "      <th>0</th>\n",
       "      <td>126444</td>\n",
       "      <td>2009-05-01</td>\n",
       "      <td>05:45</td>\n",
       "      <td>False</td>\n",
       "    </tr>\n",
       "    <tr>\n",
       "      <th>1</th>\n",
       "      <td>456610</td>\n",
       "      <td>2009-05-01</td>\n",
       "      <td>05:45</td>\n",
       "      <td>False</td>\n",
       "    </tr>\n",
       "    <tr>\n",
       "      <th>2</th>\n",
       "      <td>293763</td>\n",
       "      <td>2009-05-01</td>\n",
       "      <td>06:00</td>\n",
       "      <td>False</td>\n",
       "    </tr>\n",
       "    <tr>\n",
       "      <th>3</th>\n",
       "      <td>151253</td>\n",
       "      <td>2009-05-01</td>\n",
       "      <td>06:15</td>\n",
       "      <td>False</td>\n",
       "    </tr>\n",
       "    <tr>\n",
       "      <th>4</th>\n",
       "      <td>476569</td>\n",
       "      <td>2009-05-01</td>\n",
       "      <td>06:15</td>\n",
       "      <td>False</td>\n",
       "    </tr>\n",
       "  </tbody>\n",
       "</table>\n",
       "</div>"
      ],
      "text/plain": [
       "   CustomerID   visitdate TimeofVisit  peakvisits\n",
       "0      126444  2009-05-01       05:45       False\n",
       "1      456610  2009-05-01       05:45       False\n",
       "2      293763  2009-05-01       06:00       False\n",
       "3      151253  2009-05-01       06:15       False\n",
       "4      476569  2009-05-01       06:15       False"
      ]
     },
     "execution_count": 17,
     "metadata": {},
     "output_type": "execute_result"
    }
   ],
   "source": [
    "# import visit data\n",
    "visit_1 = pd.read_csv(os.path.join(path,'data/raw/visitationdataPART1.csv'))\n",
    "visit_2 = pd.read_csv(os.path.join(path,'data/raw/visitationdataPART2.csv'))\n",
    "\n",
    "visit = pd.concat([visit_1, visit_2])\n",
    "visit.head()"
   ]
  },
  {
   "cell_type": "code",
   "execution_count": 22,
   "metadata": {},
   "outputs": [
    {
     "data": {
      "text/plain": [
       "count     69514576\n",
       "unique          77\n",
       "top          08:00\n",
       "freq       2954244\n",
       "Name: TimeofVisit, dtype: object"
      ]
     },
     "execution_count": 22,
     "metadata": {},
     "output_type": "execute_result"
    }
   ],
   "source": [
    "visit['TimeofVisit'].describe()"
   ]
  },
  {
   "cell_type": "markdown",
   "metadata": {},
   "source": [
    "Time of visit needs to be converted to timestamp object"
   ]
  },
  {
   "cell_type": "code",
   "execution_count": null,
   "metadata": {},
   "outputs": [],
   "source": []
  }
 ],
 "metadata": {
  "kernelspec": {
   "display_name": "Python 3",
   "language": "python",
   "name": "python3"
  },
  "language_info": {
   "codemirror_mode": {
    "name": "ipython",
    "version": 3
   },
   "file_extension": ".py",
   "mimetype": "text/x-python",
   "name": "python",
   "nbconvert_exporter": "python",
   "pygments_lexer": "ipython3",
   "version": "3.7.0"
  }
 },
 "nbformat": 4,
 "nbformat_minor": 2
}

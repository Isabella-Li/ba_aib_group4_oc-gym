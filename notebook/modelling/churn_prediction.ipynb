{
 "cells": [
  {
   "cell_type": "markdown",
   "metadata": {},
   "source": [
    "# Data Modelling on question 5\n",
    "\n",
    "### Bonus: Given this, to what degree can we predict individual member churn?\n",
    "\n",
    "team member: Sonia"
   ]
  },
  {
   "cell_type": "code",
   "execution_count": 15,
   "metadata": {},
   "outputs": [],
   "source": [
    "import pandas as pd\n",
    "import numpy as np\n",
    "import matplotlib.pyplot as plt\n",
    "import os\n",
    "import datetime as dt\n",
    "import csv"
   ]
  },
  {
   "cell_type": "code",
   "execution_count": 16,
   "metadata": {},
   "outputs": [],
   "source": [
    "# go back to grand parent level directory\n",
    "path = os.path.abspath(os.getcwd() + \"/../../\")"
   ]
  },
  {
   "cell_type": "code",
   "execution_count": 22,
   "metadata": {},
   "outputs": [
    {
     "data": {
      "text/html": [
       "<div>\n",
       "<style scoped>\n",
       "    .dataframe tbody tr th:only-of-type {\n",
       "        vertical-align: middle;\n",
       "    }\n",
       "\n",
       "    .dataframe tbody tr th {\n",
       "        vertical-align: top;\n",
       "    }\n",
       "\n",
       "    .dataframe thead th {\n",
       "        text-align: right;\n",
       "    }\n",
       "</style>\n",
       "<table border=\"1\" class=\"dataframe\">\n",
       "  <thead>\n",
       "    <tr style=\"text-align: right;\">\n",
       "      <th></th>\n",
       "      <th>id</th>\n",
       "      <th>is_male</th>\n",
       "      <th>join_age</th>\n",
       "      <th>s_class_rank</th>\n",
       "      <th>club</th>\n",
       "      <th>join_mth</th>\n",
       "      <th>end_mth</th>\n",
       "      <th>is_std</th>\n",
       "      <th>mth_active</th>\n",
       "      <th>is_left_Dec15</th>\n",
       "      <th>...</th>\n",
       "      <th>rev_fr_16</th>\n",
       "      <th>rev_to_date</th>\n",
       "      <th>first_visit</th>\n",
       "      <th>last_visit</th>\n",
       "      <th>total_visit</th>\n",
       "      <th>total_peak</th>\n",
       "      <th>pct_gym_usage</th>\n",
       "      <th>pct_peak</th>\n",
       "      <th>rev_%</th>\n",
       "      <th>gym_mthly_visit</th>\n",
       "    </tr>\n",
       "  </thead>\n",
       "  <tbody>\n",
       "    <tr>\n",
       "      <th>0</th>\n",
       "      <td>1</td>\n",
       "      <td>1</td>\n",
       "      <td>20</td>\n",
       "      <td>0.45</td>\n",
       "      <td>Enfield</td>\n",
       "      <td>2011-12-01</td>\n",
       "      <td>2011-12-01</td>\n",
       "      <td>1</td>\n",
       "      <td>1</td>\n",
       "      <td>0</td>\n",
       "      <td>...</td>\n",
       "      <td>0.00</td>\n",
       "      <td>20.99</td>\n",
       "      <td>2011-12-01 08:00:00</td>\n",
       "      <td>2011-12-27 18:45:00</td>\n",
       "      <td>20</td>\n",
       "      <td>9</td>\n",
       "      <td>0.645161</td>\n",
       "      <td>0.450000</td>\n",
       "      <td>0.040164</td>\n",
       "      <td>27020.523364</td>\n",
       "    </tr>\n",
       "    <tr>\n",
       "      <th>1</th>\n",
       "      <td>2</td>\n",
       "      <td>0</td>\n",
       "      <td>46</td>\n",
       "      <td>0.96</td>\n",
       "      <td>Greenwich</td>\n",
       "      <td>2018-06-01</td>\n",
       "      <td>NaN</td>\n",
       "      <td>1</td>\n",
       "      <td>8</td>\n",
       "      <td>0</td>\n",
       "      <td>...</td>\n",
       "      <td>215.92</td>\n",
       "      <td>215.92</td>\n",
       "      <td>2018-06-01 17:30:00</td>\n",
       "      <td>2019-01-08 18:30:00</td>\n",
       "      <td>74</td>\n",
       "      <td>41</td>\n",
       "      <td>0.302041</td>\n",
       "      <td>0.554054</td>\n",
       "      <td>0.053427</td>\n",
       "      <td>33372.886957</td>\n",
       "    </tr>\n",
       "    <tr>\n",
       "      <th>2</th>\n",
       "      <td>3</td>\n",
       "      <td>0</td>\n",
       "      <td>33</td>\n",
       "      <td>0.73</td>\n",
       "      <td>Islington</td>\n",
       "      <td>2018-03-01</td>\n",
       "      <td>2018-10-01</td>\n",
       "      <td>1</td>\n",
       "      <td>8</td>\n",
       "      <td>0</td>\n",
       "      <td>...</td>\n",
       "      <td>215.92</td>\n",
       "      <td>215.92</td>\n",
       "      <td>2018-03-03 19:00:00</td>\n",
       "      <td>2018-10-26 07:45:00</td>\n",
       "      <td>165</td>\n",
       "      <td>110</td>\n",
       "      <td>0.673469</td>\n",
       "      <td>0.666667</td>\n",
       "      <td>0.045245</td>\n",
       "      <td>34594.000000</td>\n",
       "    </tr>\n",
       "    <tr>\n",
       "      <th>3</th>\n",
       "      <td>4</td>\n",
       "      <td>0</td>\n",
       "      <td>44</td>\n",
       "      <td>0.45</td>\n",
       "      <td>Hounslow</td>\n",
       "      <td>2015-10-01</td>\n",
       "      <td>2015-12-01</td>\n",
       "      <td>1</td>\n",
       "      <td>3</td>\n",
       "      <td>1</td>\n",
       "      <td>...</td>\n",
       "      <td>0.00</td>\n",
       "      <td>62.97</td>\n",
       "      <td>2015-10-02 09:00:00</td>\n",
       "      <td>2015-12-28 19:30:00</td>\n",
       "      <td>52</td>\n",
       "      <td>32</td>\n",
       "      <td>0.565217</td>\n",
       "      <td>0.615385</td>\n",
       "      <td>0.056200</td>\n",
       "      <td>34880.376068</td>\n",
       "    </tr>\n",
       "    <tr>\n",
       "      <th>4</th>\n",
       "      <td>5</td>\n",
       "      <td>1</td>\n",
       "      <td>33</td>\n",
       "      <td>0.25</td>\n",
       "      <td>Barnet</td>\n",
       "      <td>2015-05-01</td>\n",
       "      <td>2015-12-01</td>\n",
       "      <td>1</td>\n",
       "      <td>8</td>\n",
       "      <td>1</td>\n",
       "      <td>...</td>\n",
       "      <td>0.00</td>\n",
       "      <td>167.92</td>\n",
       "      <td>2015-05-03 19:15:00</td>\n",
       "      <td>2015-12-27 17:15:00</td>\n",
       "      <td>93</td>\n",
       "      <td>63</td>\n",
       "      <td>0.379592</td>\n",
       "      <td>0.677419</td>\n",
       "      <td>0.044240</td>\n",
       "      <td>33058.270833</td>\n",
       "    </tr>\n",
       "  </tbody>\n",
       "</table>\n",
       "<p>5 rows × 22 columns</p>\n",
       "</div>"
      ],
      "text/plain": [
       "   id  is_male  join_age  s_class_rank       club    join_mth     end_mth  \\\n",
       "0   1        1        20          0.45    Enfield  2011-12-01  2011-12-01   \n",
       "1   2        0        46          0.96  Greenwich  2018-06-01         NaN   \n",
       "2   3        0        33          0.73  Islington  2018-03-01  2018-10-01   \n",
       "3   4        0        44          0.45   Hounslow  2015-10-01  2015-12-01   \n",
       "4   5        1        33          0.25     Barnet  2015-05-01  2015-12-01   \n",
       "\n",
       "   is_std  mth_active  is_left_Dec15       ...         rev_fr_16  rev_to_date  \\\n",
       "0       1           1              0       ...              0.00        20.99   \n",
       "1       1           8              0       ...            215.92       215.92   \n",
       "2       1           8              0       ...            215.92       215.92   \n",
       "3       1           3              1       ...              0.00        62.97   \n",
       "4       1           8              1       ...              0.00       167.92   \n",
       "\n",
       "           first_visit           last_visit total_visit total_peak  \\\n",
       "0  2011-12-01 08:00:00  2011-12-27 18:45:00          20          9   \n",
       "1  2018-06-01 17:30:00  2019-01-08 18:30:00          74         41   \n",
       "2  2018-03-03 19:00:00  2018-10-26 07:45:00         165        110   \n",
       "3  2015-10-02 09:00:00  2015-12-28 19:30:00          52         32   \n",
       "4  2015-05-03 19:15:00  2015-12-27 17:15:00          93         63   \n",
       "\n",
       "   pct_gym_usage  pct_peak     rev_%  gym_mthly_visit  \n",
       "0       0.645161  0.450000  0.040164     27020.523364  \n",
       "1       0.302041  0.554054  0.053427     33372.886957  \n",
       "2       0.673469  0.666667  0.045245     34594.000000  \n",
       "3       0.565217  0.615385  0.056200     34880.376068  \n",
       "4       0.379592  0.677419  0.044240     33058.270833  \n",
       "\n",
       "[5 rows x 22 columns]"
      ]
     },
     "execution_count": 22,
     "metadata": {},
     "output_type": "execute_result"
    }
   ],
   "source": [
    "# import cleaned membership data\n",
    "membership_db = pd.read_csv(os.path.join(path,'data/processed/membership_clean.csv'))\n",
    "membership_db.head()"
   ]
  },
  {
   "cell_type": "code",
   "execution_count": 23,
   "metadata": {
    "scrolled": true
   },
   "outputs": [],
   "source": [
    "# import description file\n",
    "#des = pd.read_csv(os.path.join(path,'data/processed/membership_clean_description.csv'))\n",
    "#des"
   ]
  },
  {
   "cell_type": "markdown",
   "metadata": {},
   "source": [
    "## Use Random Forest Regressor to predict individual churn rate\n",
    "\n",
    "  1) estimate how long we expected that person to stay, - how long they stayed\n",
    "  2) calculate how much longer they will stay on those still active\n"
   ]
  },
  {
   "cell_type": "code",
   "execution_count": 28,
   "metadata": {},
   "outputs": [
    {
     "name": "stdout",
     "output_type": "stream",
     "text": [
      "797656 members have left the gym. 52377 members are active.\n"
     ]
    }
   ],
   "source": [
    "# training database\n",
    "ceased_db = membership_db[membership_db['is_active'] == 0]\n",
    "active_db = membership_db[membership_db['is_active'] == 1]\n",
    "print(f'{len(ceased_db)} members have left the gym. {len(active_db)} members are active.')\n",
    "#ceased_db.to_csv(os.path.join(path,'data/processed/ceased_db.csv'), index=False)  "
   ]
  },
  {
   "cell_type": "code",
   "execution_count": 27,
   "metadata": {},
   "outputs": [
    {
     "data": {
      "text/plain": [
       "<matplotlib.axes._subplots.AxesSubplot at 0x21c02f21eb8>"
      ]
     },
     "execution_count": 27,
     "metadata": {},
     "output_type": "execute_result"
    },
    {
     "data": {
      "image/png": "[encoded data removed]",
      "text/plain": [
       "<Figure size 432x288 with 1 Axes>"
      ]
     },
     "metadata": {
      "needs_background": "light"
     },
     "output_type": "display_data"
    }
   ],
   "source": [
    "ceased_db['mth_active'].hist()"
   ]
  },
  {
   "cell_type": "code",
   "execution_count": 34,
   "metadata": {},
   "outputs": [
    {
     "data": {
      "text/plain": [
       "<matplotlib.axes._subplots.AxesSubplot at 0x21c02f214e0>"
      ]
     },
     "execution_count": 34,
     "metadata": {},
     "output_type": "execute_result"
    },
    {
     "data": {
      "image/png": "[encoded data removed]",
      "text/plain": [
       "<Figure size 432x288 with 1 Axes>"
      ]
     },
     "metadata": {
      "needs_background": "light"
     },
     "output_type": "display_data"
    }
   ],
   "source": [
    "ceased_db['rev_%'].hist()"
   ]
  },
  {
   "cell_type": "code",
   "execution_count": 35,
   "metadata": {},
   "outputs": [
    {
     "data": {
      "text/plain": [
       "<matplotlib.axes._subplots.AxesSubplot at 0x21c00b3da58>"
      ]
     },
     "execution_count": 35,
     "metadata": {},
     "output_type": "execute_result"
    },
    {
     "data": {
      "image/png": "[encoded data removed]",
      "text/plain": [
       "<Figure size 432x288 with 1 Axes>"
      ]
     },
     "metadata": {
      "needs_background": "light"
     },
     "output_type": "display_data"
    }
   ],
   "source": [
    "ceased_db['gym_mthly_visit'].hist()"
   ]
  },
  {
   "cell_type": "code",
   "execution_count": 49,
   "metadata": {},
   "outputs": [
    {
     "data": {
      "text/plain": [
       "<matplotlib.axes._subplots.AxesSubplot at 0x21c0f19c780>"
      ]
     },
     "execution_count": 49,
     "metadata": {},
     "output_type": "execute_result"
    },
    {
     "data": {
      "image/png": "[encoded data removed]",
      "text/plain": [
       "<Figure size 432x288 with 1 Axes>"
      ]
     },
     "metadata": {
      "needs_background": "light"
     },
     "output_type": "display_data"
    }
   ],
   "source": [
    "active_db['gym_mthly_visit'].hist()"
   ]
  },
  {
   "cell_type": "code",
   "execution_count": 44,
   "metadata": {},
   "outputs": [
    {
     "data": {
      "text/plain": [
       "<matplotlib.axes._subplots.AxesSubplot at 0x21c00beb588>"
      ]
     },
     "execution_count": 44,
     "metadata": {},
     "output_type": "execute_result"
    },
    {
     "data": {
      "image/png": "[encoded data removed]",
      "text/plain": [
       "<Figure size 432x288 with 1 Axes>"
      ]
     },
     "metadata": {
      "needs_background": "light"
     },
     "output_type": "display_data"
    }
   ],
   "source": [
    "ceased_db['join_age'].hist()"
   ]
  },
  {
   "cell_type": "markdown",
   "metadata": {},
   "source": [
    "#### normalise variables\n"
   ]
  },
  {
   "cell_type": "code",
   "execution_count": 38,
   "metadata": {},
   "outputs": [
    {
     "name": "stderr",
     "output_type": "stream",
     "text": [
      "C:\\Users\\Sonia\\Anaconda3\\lib\\site-packages\\ipykernel_launcher.py:1: SettingWithCopyWarning: \n",
      "A value is trying to be set on a copy of a slice from a DataFrame.\n",
      "Try using .loc[row_indexer,col_indexer] = value instead\n",
      "\n",
      "See the caveats in the documentation: http://pandas.pydata.org/pandas-docs/stable/indexing.html#indexing-view-versus-copy\n",
      "  \"\"\"Entry point for launching an IPython kernel.\n",
      "C:\\Users\\Sonia\\Anaconda3\\lib\\site-packages\\ipykernel_launcher.py:2: SettingWithCopyWarning: \n",
      "A value is trying to be set on a copy of a slice from a DataFrame.\n",
      "Try using .loc[row_indexer,col_indexer] = value instead\n",
      "\n",
      "See the caveats in the documentation: http://pandas.pydata.org/pandas-docs/stable/indexing.html#indexing-view-versus-copy\n",
      "  \n"
     ]
    }
   ],
   "source": [
    "ceased_db['club_profit_pct_std'] = (ceased_db['rev_%'] - np.mean(ceased_db['rev_%'])) / np.std(ceased_db['rev_%'])\n",
    "ceased_db['club_visitor_std'] = (ceased_db['gym_mthly_visit'] - np.mean(ceased_db['gym_mthly_visit'])) / np.std(ceased_db['gym_mthly_visit'])"
   ]
  },
  {
   "cell_type": "markdown",
   "metadata": {},
   "source": [
    "#### Create Working Dataset\n",
    "\n",
    "X-Variables\n",
    "'is_male', 'join_age', 's_class_rank', 'is_std', 'is_left_Dec15', 'pct_gym_usage', 'pct_peak', 'club_profit_pct_std','club_visitor_std'\n",
    "\n",
    "Y-Variables\n",
    "mths_active"
   ]
  },
  {
   "cell_type": "code",
   "execution_count": 40,
   "metadata": {},
   "outputs": [],
   "source": [
    "x = ceased_db[['is_male', 'join_age', 's_class_rank', 'is_std', 'is_left_Dec15', 'pct_gym_usage', 'pct_peak',\n",
    "               'club_profit_pct_std','club_visitor_std']]\n",
    "y = ceased_db['mth_active']"
   ]
  },
  {
   "cell_type": "code",
   "execution_count": 41,
   "metadata": {},
   "outputs": [
    {
     "data": {
      "text/html": [
       "<div>\n",
       "<style scoped>\n",
       "    .dataframe tbody tr th:only-of-type {\n",
       "        vertical-align: middle;\n",
       "    }\n",
       "\n",
       "    .dataframe tbody tr th {\n",
       "        vertical-align: top;\n",
       "    }\n",
       "\n",
       "    .dataframe thead th {\n",
       "        text-align: right;\n",
       "    }\n",
       "</style>\n",
       "<table border=\"1\" class=\"dataframe\">\n",
       "  <thead>\n",
       "    <tr style=\"text-align: right;\">\n",
       "      <th></th>\n",
       "      <th>is_male</th>\n",
       "      <th>join_age</th>\n",
       "      <th>s_class_rank</th>\n",
       "      <th>is_std</th>\n",
       "      <th>is_left_Dec15</th>\n",
       "      <th>pct_gym_usage</th>\n",
       "      <th>pct_peak</th>\n",
       "      <th>club_profit_pct_std</th>\n",
       "      <th>club_visitor_std</th>\n",
       "    </tr>\n",
       "  </thead>\n",
       "  <tbody>\n",
       "    <tr>\n",
       "      <th>0</th>\n",
       "      <td>1</td>\n",
       "      <td>20</td>\n",
       "      <td>0.45</td>\n",
       "      <td>1</td>\n",
       "      <td>0</td>\n",
       "      <td>0.645161</td>\n",
       "      <td>0.450000</td>\n",
       "      <td>0.193217</td>\n",
       "      <td>-1.958800</td>\n",
       "    </tr>\n",
       "    <tr>\n",
       "      <th>2</th>\n",
       "      <td>0</td>\n",
       "      <td>33</td>\n",
       "      <td>0.73</td>\n",
       "      <td>1</td>\n",
       "      <td>0</td>\n",
       "      <td>0.673469</td>\n",
       "      <td>0.666667</td>\n",
       "      <td>0.620204</td>\n",
       "      <td>0.286751</td>\n",
       "    </tr>\n",
       "    <tr>\n",
       "      <th>3</th>\n",
       "      <td>0</td>\n",
       "      <td>44</td>\n",
       "      <td>0.45</td>\n",
       "      <td>1</td>\n",
       "      <td>1</td>\n",
       "      <td>0.565217</td>\n",
       "      <td>0.615385</td>\n",
       "      <td>1.540720</td>\n",
       "      <td>0.371662</td>\n",
       "    </tr>\n",
       "    <tr>\n",
       "      <th>4</th>\n",
       "      <td>1</td>\n",
       "      <td>33</td>\n",
       "      <td>0.25</td>\n",
       "      <td>1</td>\n",
       "      <td>1</td>\n",
       "      <td>0.379592</td>\n",
       "      <td>0.677419</td>\n",
       "      <td>0.535722</td>\n",
       "      <td>-0.168596</td>\n",
       "    </tr>\n",
       "    <tr>\n",
       "      <th>5</th>\n",
       "      <td>1</td>\n",
       "      <td>35</td>\n",
       "      <td>0.45</td>\n",
       "      <td>1</td>\n",
       "      <td>0</td>\n",
       "      <td>0.423913</td>\n",
       "      <td>0.256410</td>\n",
       "      <td>0.827730</td>\n",
       "      <td>0.818675</td>\n",
       "    </tr>\n",
       "  </tbody>\n",
       "</table>\n",
       "</div>"
      ],
      "text/plain": [
       "   is_male  join_age  s_class_rank  is_std  is_left_Dec15  pct_gym_usage  \\\n",
       "0        1        20          0.45       1              0       0.645161   \n",
       "2        0        33          0.73       1              0       0.673469   \n",
       "3        0        44          0.45       1              1       0.565217   \n",
       "4        1        33          0.25       1              1       0.379592   \n",
       "5        1        35          0.45       1              0       0.423913   \n",
       "\n",
       "   pct_peak  club_profit_pct_std  club_visitor_std  \n",
       "0  0.450000             0.193217         -1.958800  \n",
       "2  0.666667             0.620204          0.286751  \n",
       "3  0.615385             1.540720          0.371662  \n",
       "4  0.677419             0.535722         -0.168596  \n",
       "5  0.256410             0.827730          0.818675  "
      ]
     },
     "execution_count": 41,
     "metadata": {},
     "output_type": "execute_result"
    }
   ],
   "source": [
    "x.head()"
   ]
  },
  {
   "cell_type": "markdown",
   "metadata": {},
   "source": [
    "test regression\n"
   ]
  },
  {
   "cell_type": "code",
   "execution_count": 46,
   "metadata": {},
   "outputs": [],
   "source": [
    "import statsmodels.api as sm"
   ]
  },
  {
   "cell_type": "code",
   "execution_count": 47,
   "metadata": {},
   "outputs": [
    {
     "data": {
      "text/html": [
       "<table class=\"simpletable\">\n",
       "<caption>OLS Regression Results</caption>\n",
       "<tr>\n",
       "  <th>Dep. Variable:</th>       <td>mth_active</td>    <th>  R-squared:         </th>  <td>   0.762</td>  \n",
       "</tr>\n",
       "<tr>\n",
       "  <th>Model:</th>                   <td>OLS</td>       <th>  Adj. R-squared:    </th>  <td>   0.762</td>  \n",
       "</tr>\n",
       "<tr>\n",
       "  <th>Method:</th>             <td>Least Squares</td>  <th>  F-statistic:       </th>  <td>2.844e+05</td> \n",
       "</tr>\n",
       "<tr>\n",
       "  <th>Date:</th>             <td>Sun, 04 Aug 2019</td> <th>  Prob (F-statistic):</th>   <td>  0.00</td>   \n",
       "</tr>\n",
       "<tr>\n",
       "  <th>Time:</th>                 <td>17:49:49</td>     <th>  Log-Likelihood:    </th> <td>-1.9768e+06</td>\n",
       "</tr>\n",
       "<tr>\n",
       "  <th>No. Observations:</th>      <td>797656</td>      <th>  AIC:               </th>  <td>3.954e+06</td> \n",
       "</tr>\n",
       "<tr>\n",
       "  <th>Df Residuals:</th>          <td>797647</td>      <th>  BIC:               </th>  <td>3.954e+06</td> \n",
       "</tr>\n",
       "<tr>\n",
       "  <th>Df Model:</th>              <td>     9</td>      <th>                     </th>      <td> </td>     \n",
       "</tr>\n",
       "<tr>\n",
       "  <th>Covariance Type:</th>      <td>nonrobust</td>    <th>                     </th>      <td> </td>     \n",
       "</tr>\n",
       "</table>\n",
       "<table class=\"simpletable\">\n",
       "<tr>\n",
       "           <td></td>              <th>coef</th>     <th>std err</th>      <th>t</th>      <th>P>|t|</th>  <th>[0.025</th>    <th>0.975]</th>  \n",
       "</tr>\n",
       "<tr>\n",
       "  <th>is_male</th>             <td>    0.2428</td> <td>    0.006</td> <td>   37.949</td> <td> 0.000</td> <td>    0.230</td> <td>    0.255</td>\n",
       "</tr>\n",
       "<tr>\n",
       "  <th>join_age</th>            <td>    0.0469</td> <td>    0.000</td> <td>  137.325</td> <td> 0.000</td> <td>    0.046</td> <td>    0.048</td>\n",
       "</tr>\n",
       "<tr>\n",
       "  <th>s_class_rank</th>        <td>    0.6765</td> <td>    0.013</td> <td>   52.464</td> <td> 0.000</td> <td>    0.651</td> <td>    0.702</td>\n",
       "</tr>\n",
       "<tr>\n",
       "  <th>is_std</th>              <td>    1.9757</td> <td>    0.008</td> <td>  247.943</td> <td> 0.000</td> <td>    1.960</td> <td>    1.991</td>\n",
       "</tr>\n",
       "<tr>\n",
       "  <th>is_left_Dec15</th>       <td>   -0.3051</td> <td>    0.021</td> <td>  -14.284</td> <td> 0.000</td> <td>   -0.347</td> <td>   -0.263</td>\n",
       "</tr>\n",
       "<tr>\n",
       "  <th>pct_gym_usage</th>       <td>    3.7277</td> <td>    0.016</td> <td>  232.697</td> <td> 0.000</td> <td>    3.696</td> <td>    3.759</td>\n",
       "</tr>\n",
       "<tr>\n",
       "  <th>pct_peak</th>            <td>   -0.7955</td> <td>    0.020</td> <td>  -39.350</td> <td> 0.000</td> <td>   -0.835</td> <td>   -0.756</td>\n",
       "</tr>\n",
       "<tr>\n",
       "  <th>club_profit_pct_std</th> <td>    0.0862</td> <td>    0.003</td> <td>   26.369</td> <td> 0.000</td> <td>    0.080</td> <td>    0.093</td>\n",
       "</tr>\n",
       "<tr>\n",
       "  <th>club_visitor_std</th>    <td>    0.1309</td> <td>    0.003</td> <td>   40.032</td> <td> 0.000</td> <td>    0.124</td> <td>    0.137</td>\n",
       "</tr>\n",
       "</table>\n",
       "<table class=\"simpletable\">\n",
       "<tr>\n",
       "  <th>Omnibus:</th>       <td>350413.891</td> <th>  Durbin-Watson:     </th>  <td>   2.000</td>  \n",
       "</tr>\n",
       "<tr>\n",
       "  <th>Prob(Omnibus):</th>   <td> 0.000</td>   <th>  Jarque-Bera (JB):  </th> <td>2324719.073</td>\n",
       "</tr>\n",
       "<tr>\n",
       "  <th>Skew:</th>            <td> 2.006</td>   <th>  Prob(JB):          </th>  <td>    0.00</td>  \n",
       "</tr>\n",
       "<tr>\n",
       "  <th>Kurtosis:</th>        <td>10.338</td>   <th>  Cond. No.          </th>  <td>    217.</td>  \n",
       "</tr>\n",
       "</table><br/><br/>Warnings:<br/>[1] Standard Errors assume that the covariance matrix of the errors is correctly specified."
      ],
      "text/plain": [
       "<class 'statsmodels.iolib.summary.Summary'>\n",
       "\"\"\"\n",
       "                            OLS Regression Results                            \n",
       "==============================================================================\n",
       "Dep. Variable:             mth_active   R-squared:                       0.762\n",
       "Model:                            OLS   Adj. R-squared:                  0.762\n",
       "Method:                 Least Squares   F-statistic:                 2.844e+05\n",
       "Date:                Sun, 04 Aug 2019   Prob (F-statistic):               0.00\n",
       "Time:                        17:49:49   Log-Likelihood:            -1.9768e+06\n",
       "No. Observations:              797656   AIC:                         3.954e+06\n",
       "Df Residuals:                  797647   BIC:                         3.954e+06\n",
       "Df Model:                           9                                         \n",
       "Covariance Type:            nonrobust                                         \n",
       "=======================================================================================\n",
       "                          coef    std err          t      P>|t|      [0.025      0.975]\n",
       "---------------------------------------------------------------------------------------\n",
       "is_male                 0.2428      0.006     37.949      0.000       0.230       0.255\n",
       "join_age                0.0469      0.000    137.325      0.000       0.046       0.048\n",
       "s_class_rank            0.6765      0.013     52.464      0.000       0.651       0.702\n",
       "is_std                  1.9757      0.008    247.943      0.000       1.960       1.991\n",
       "is_left_Dec15          -0.3051      0.021    -14.284      0.000      -0.347      -0.263\n",
       "pct_gym_usage           3.7277      0.016    232.697      0.000       3.696       3.759\n",
       "pct_peak               -0.7955      0.020    -39.350      0.000      -0.835      -0.756\n",
       "club_profit_pct_std     0.0862      0.003     26.369      0.000       0.080       0.093\n",
       "club_visitor_std        0.1309      0.003     40.032      0.000       0.124       0.137\n",
       "==============================================================================\n",
       "Omnibus:                   350413.891   Durbin-Watson:                   2.000\n",
       "Prob(Omnibus):                  0.000   Jarque-Bera (JB):          2324719.073\n",
       "Skew:                           2.006   Prob(JB):                         0.00\n",
       "Kurtosis:                      10.338   Cond. No.                         217.\n",
       "==============================================================================\n",
       "\n",
       "Warnings:\n",
       "[1] Standard Errors assume that the covariance matrix of the errors is correctly specified.\n",
       "\"\"\""
      ]
     },
     "execution_count": 47,
     "metadata": {},
     "output_type": "execute_result"
    }
   ],
   "source": [
    "model = sm.OLS(y, x).fit()\n",
    "predictions = model.predict(x)\n",
    "model.summary()"
   ]
  },
  {
   "cell_type": "code",
   "execution_count": null,
   "metadata": {},
   "outputs": [],
   "source": [
    "\n",
    "from sklearn.ensemble import RandomForestRegressor\n",
    "\n",
    "train_feature_dir = 'train_feature.csv'\n",
    "feature_mat = np.genfromtxt(train_feature_dir, delimiter=',')\n",
    "\n",
    "train_label_dir = 'train_label.csv'\n",
    "label_mat = np.genfromtxt(train_label_dir, delimiter=',')\n",
    "\n",
    "test_feature_dir = 'test_feature.csv'\n",
    "feature_mat_test = np.genfromtxt(test_feature_dir, delimiter=',')\n",
    "\n",
    "# split data into training and validation set\n",
    "\n",
    "val_id = (np.floor(np.random.rand(1,6872)*34872))\n",
    "val_feature_mat = np.squeeze(feature_mat.T[val_id.astype(int),:])\n",
    "val_label_mat = np.squeeze(label_mat.T[val_id.astype(int)])\n",
    "print(val_id.size)\n",
    "\n",
    "feature_mat = np.delete(feature_mat,val_id.astype(int),axis=1)\n",
    "label_mat = np.delete(label_mat,val_id.astype(int),axis=0)\n",
    "\n",
    "train_feature_mat = feature_mat.T\n",
    "train_label_mat = label_mat.T\n",
    "\n",
    "print(train_feature_mat.shape)\n",
    "print(train_label_mat.shape)\n",
    "\n",
    "\n",
    "clf = RandomForestRegressor(n_estimators=100, max_depth=20, random_state=0)\n",
    "clf.fit(train_feature_mat,train_label_mat)\n",
    "\n",
    "predictions = np.zeros([val_id.size,1])\n",
    "reg_predictions = clf.predict(val_feature_mat)\n",
    "mask_pred = [reg_predictions > 0.02]\n",
    "predictions[mask_pred] = 1\n",
    "predictions = np.squeeze(predictions)\n",
    "\n",
    "mask = (predictions == val_label_mat)\n",
    "Acc = np.sum(mask)/np.float(val_id.size)\n",
    "print('The overall accuracy is: ' + str(Acc))\n",
    "\n",
    "pos_samples = val_label_mat[mask]\n",
    "pos_train_samples = np.sum(val_label_mat)\n",
    "Acc_pos = np.float(np.sum(pos_samples))/pos_train_samples\n",
    "print('The accuracy for positive samples is:' + str(Acc_pos))\n",
    "print('The number of sucess postive predictiction is:' + str(np.sum(pos_samples)))\n",
    "print('The number of total postive prediction in validation set is:' + str(np.sum(val_label_mat)))\n",
    "\n",
    "import matplotlib.pyplot as plt\n",
    "from sklearn.metrics import (confusion_matrix, precision_recall_curve, auc,\n",
    "                             roc_curve, recall_score, classification_report, f1_score,\n",
    "                             precision_recall_fscore_support)\n",
    "\n",
    "fpr, tpr, thresholds = roc_curve(val_label_mat, predictions)\n",
    "roc_auc = auc(fpr, tpr)\n",
    "\n",
    "plt.title('Receiver Operating Characteristic')\n",
    "plt.plot(fpr, tpr, label='AUC = %0.4f'% roc_auc)\n",
    "plt.legend(loc='lower right')\n",
    "plt.plot([0,1],[0,1],'r--')\n",
    "plt.xlim([-0.001, 1])\n",
    "plt.ylim([0, 1.001])\n",
    "plt.ylabel('True Positive Rate')\n",
    "plt.xlabel('False Positive Rate')\n",
    "plt.show();"
   ]
  }
 ],
 "metadata": {
  "kernelspec": {
   "display_name": "Python 3",
   "language": "python",
   "name": "python3"
  },
  "language_info": {
   "codemirror_mode": {
    "name": "ipython",
    "version": 3
   },
   "file_extension": ".py",
   "mimetype": "text/x-python",
   "name": "python",
   "nbconvert_exporter": "python",
   "pygments_lexer": "ipython3",
   "version": "3.7.0"
  }
 },
 "nbformat": 4,
 "nbformat_minor": 2
}
